{
  "nbformat": 4,
  "nbformat_minor": 0,
  "metadata": {
    "colab": {
      "name": "Copy of NSynth_Colab.ipynb",
      "version": "0.3.2",
      "provenance": [],
      "collapsed_sections": [],
      "toc_visible": true
    },
    "kernelspec": {
      "name": "python2",
      "display_name": "Python 2"
    },
    "accelerator": "GPU"
  },
  "cells": [
    {
      "cell_type": "markdown",
      "metadata": {
        "id": "view-in-github",
        "colab_type": "text"
      },
      "source": [
        "[View in Colaboratory](https://colab.research.google.com/github/sungchun12/NSynth-Demos/blob/master/Copy_of_NSynth_Colab.ipynb)"
      ]
    },
    {
      "metadata": {
        "id": "zRmlJYze_29V",
        "colab_type": "text"
      },
      "cell_type": "markdown",
      "source": [
        "Copyright 2017 Google LLC.\n",
        "\n",
        "Licensed under the Apache License, Version 2.0 (the \"License\");\n",
        "you may not use this file except in compliance with the License.\n",
        "You may obtain a copy of the License at\n",
        "\n",
        "https://www.apache.org/licenses/LICENSE-2.0\n",
        "\n",
        "Unless required by applicable law or agreed to in writing, software\n",
        "distributed under the License is distributed on an \"AS IS\" BASIS,\n",
        "WITHOUT WARRANTIES OR CONDITIONS OF ANY KIND, either express or implied.\n",
        "See the License for the specific language governing permissions and\n",
        "limitations under the License.\n",
        "\n"
      ]
    },
    {
      "metadata": {
        "id": "2Axg7pBLtt3V",
        "colab_type": "text"
      },
      "cell_type": "markdown",
      "source": [
        "# E-Z NSynth\n",
        "\n",
        "__Neural Audio Synthesis of Musical Notes with WaveNet Autoencoders, ICML 2017__\n",
        "\n",
        "Jesse Engel, Cinjon Resnick, Adam Roberts, Sander Dieleman, Douglas Eck, Karen Simonyan, Mohammad Norouzi\n",
        "\n",
        "## Instructions\n",
        "* This colab notebook has everything you need to upload your own sounds and use NSynth models to reconstruct and interpolate between them.\n",
        "* You can use these sounds as samples in your own music a la [Andrew Huang Rocking Out with NSynth](https://www.youtube.com/watch?v=AaALLWQmCdI).\n",
        "* Make sure to use a kernel with a GPU attached by selecting: **Edit >> Notebook Settings >> Hardware Accelerator >> GPU** from the dropdown menu.\n",
        "* You can run this notebook without writing / seeing a line of code. Just click the triangular **\"Play\"** button on the left of each cell.\n",
        "* Start at the top and work your way to the bottom, clicking **\"Play\"** for each cell.\n",
        "* If you want to see the code, you can reveal with the menu on the upper right hand side of each cell.\n",
        "\n",
        "\n",
        "### Other Resources:\n",
        "* [Nat and Friends \"Behind the scenes\"](https://www.youtube.com/watch?v=BOoSy-Pg8is)\n",
        "* [Original Blog Post](https://magenta.tensorflow.org/nsynth)\n",
        "* [NSynth Instrument](https://magenta.tensorflow.org/nsynth-instrument)\n",
        "* [Jupyter Notebook Tutorial](https://magenta.tensorflow.org/nsynth-fastgen)\n",
        "* [ArXiv Paper](https://arxiv.org/abs/1704.01279)\n",
        "* [Github Code](https://github.com/tensorflow/magenta/tree/master/magenta/models/nsynth)\n",
        "\n"
      ]
    },
    {
      "metadata": {
        "id": "e-2av9upRi0z",
        "colab_type": "text"
      },
      "cell_type": "markdown",
      "source": [
        "# Setup Environment\n",
        "\n",
        "We need to start downloading and choosing a pretrained NSynth model to use. Transfers several GBs, may take a minute or two. Just click Play..."
      ]
    },
    {
      "metadata": {
        "id": "ZA7tNz2zAWvn",
        "colab_type": "code",
        "colab": {
          "base_uri": "https://localhost:8080/",
          "height": 326
        },
        "outputId": "05ab84fd-88dc-4237-95ee-881370c866d6"
      },
      "cell_type": "code",
      "source": [
        "#@title Setup Environment\n",
        "#@test {\"output\": \"ignore\"}\n",
        "\n",
        "\n",
        "# Install magenta\n",
        "print('Installing Magenta...\\n')\n",
        "!pip install -q magenta\n",
        "print('Installing ffmpeg...\\n')\n",
        "!echo \"Yes\" | apt-get install ffmpeg > /dev/null\n",
        "\n",
        "\n",
        "print('Downloading Pretrained Models...\\n')\n",
        "# Copy checkpoints from google cloud\n",
        "# Copying 1GB, takes a minute\n",
        "print('Getting Instruments Model...\\n')\n",
        "!gsutil -q -m cp -R gs://download.magenta.tensorflow.org/models/nsynth/wavenet-ckpt.tar /content/\n",
        "print('Getting Voices Model...\\n')\n",
        "!gsutil -q -m cp -R gs://download.magenta.tensorflow.org/models/nsynth/wavenet-voice-ckpt.tar.gz /content/\n",
        "!cd /content/\n",
        "!tar -xvf wavenet-ckpt.tar > /dev/null\n",
        "!tar -xvf wavenet-voice-ckpt.tar.gz > /dev/null\n",
        "\n",
        "\n",
        "print('Importing Modules...\\n')\n",
        "# Load modules and helper functions\n",
        "import os\n",
        "import numpy as np\n",
        "import matplotlib.pyplot as plt\n",
        "from IPython.display import Audio\n",
        "%matplotlib inline\n",
        "\n",
        "from google.colab import files\n",
        "from magenta.models.nsynth import utils\n",
        "from magenta.models.nsynth.wavenet import fastgen\n",
        "from magenta.music.notebook_utils import colab_play as play\n",
        "\n",
        "def upload(sample_length, sr):\n",
        "  '''Upload a .wav file.'''\n",
        "  filemap = files.upload()\n",
        "  file_list, audio_list = [], []\n",
        "  for key, value in filemap.iteritems():\n",
        "    fname = os.path.join('/content/', key)\n",
        "    with open(fname, 'w') as f:\n",
        "      f.write(value)\n",
        "    audio = utils.load_audio(fname, sample_length=sample_length, sr=sr)\n",
        "    file_list.append(fname)\n",
        "    audio_list.append(audio)\n",
        "  return file_list, audio_list\n",
        "\n",
        "download = files.download\n",
        "\n",
        "get_name = lambda f: os.path.splitext(os.path.basename(f))[0]\n",
        "\n",
        "print('Sucess!! Environment is now setup.')\n"
      ],
      "execution_count": 2,
      "outputs": [
        {
          "output_type": "stream",
          "text": [
            "Installing Magenta...\n",
            "\n",
            "Installing ffmpeg...\n",
            "\n",
            "Extracting templates from packages: 100%\n",
            "Downloading Pretrained Models...\n",
            "\n",
            "Getting Instruments Model...\n",
            "\n",
            "Getting Voices Model...\n",
            "\n",
            "Importing Modules...\n",
            "\n",
            "WARNING:tensorflow:From /usr/local/lib/python2.7/dist-packages/magenta/models/nsynth/wavenet/masked.py:116: __init__ (from tensorflow.python.ops.init_ops) is deprecated and will be removed in a future version.\n",
            "Instructions for updating:\n",
            "Use tf.initializers.variance_scaling instead with distribution=uniform to get equivalent behavior.\n",
            "Sucess!! Environment is now setup.\n"
          ],
          "name": "stdout"
        }
      ]
    },
    {
      "metadata": {
        "id": "QyAT8mQhX1Gq",
        "colab_type": "text"
      },
      "cell_type": "markdown",
      "source": [
        "We have two pretrained models to choose from. One trained on the individual instrument notes of the [NSynth Dataset](https://magenta.tensorflow.org/datasets/nsynth) (\"Instruments\"), and another trained on a variety of voices in the wild for an art project (\"Voices\", mixture of singing and speaking). The Instruments model was trained on a larger quantity of data, so tends to generalize a bit better. Neither reconstructs audio perfectly, but both add their own unique character to sounds. Explore them both and see what you like!"
      ]
    },
    {
      "metadata": {
        "id": "gSXXL26bLDCy",
        "colab_type": "code",
        "colab": {
          "base_uri": "https://localhost:8080/",
          "height": 34
        },
        "outputId": "17f066ed-bb4e-49ea-cc4e-1b3c30d365a9"
      },
      "cell_type": "code",
      "source": [
        "#@title Choose a Model { vertical-output: true, run: \"auto\" }\n",
        "Model = \"Instruments\" #@param [\"Instruments\", \"Voices\"] {type:\"string\"}\n",
        "ckpts = {'Instruments': '/content/wavenet-ckpt/model.ckpt-200000',\n",
        "         'Voices': '/content/wavenet-voice-ckpt/model.ckpt-200000'}\n",
        "\n",
        "ckpt_path = ckpts[Model]\n",
        "print('Using model pretrained on %s.' % Model)"
      ],
      "execution_count": 1,
      "outputs": [
        {
          "output_type": "stream",
          "text": [
            "Using model pretrained on Instruments.\n"
          ],
          "name": "stdout"
        }
      ]
    },
    {
      "metadata": {
        "id": "LTAkswTOcgAp",
        "colab_type": "text"
      },
      "cell_type": "markdown",
      "source": [
        "# Load Sound Files\n",
        "\n",
        "Now it's time for you to load your own sound files for processing. You can use either `.wav` files or `.mp3` files, but in either case they will be converted to `.wav`. All files will be downsampled to 16kHz and cropped / silence padded to `Length` seconds as the input and output to the algorithm.\n",
        "\n",
        "Don't have sounds? You can downloaded free sounds from freesound.org For example:\n",
        "* https://freesound.org/people/MustardPlug/sounds/395058/\n",
        "* https://freesound.org/people/cms4f/sounds/159119/\n",
        "* https://freesound.org/people/juskiddink/sounds/60055/\n",
        "* https://freesound.org/people/Audeption/sounds/418526/\n",
        "* https://freesound.org/people/Jagadamba/sounds/255878/\n",
        "\n",
        "\n",
        "Keep in mind, with the cloud GPU synthesis takes around 4 minutes / 1 second of length."
      ]
    },
    {
      "metadata": {
        "id": "CnSCiX0kA2-5",
        "colab_type": "code",
        "colab": {}
      },
      "cell_type": "code",
      "source": [
        "#@title Set Sound Length (in Seconds) { vertical-output: true, run: \"auto\" }\n",
        "Length = 6 #@param {type:\"number\"}\n",
        "SR = 16000\n",
        "SAMPLE_LENGTH = int(SR * Length)"
      ],
      "execution_count": 0,
      "outputs": []
    },
    {
      "metadata": {
        "id": "c9IufW4mtPAU",
        "colab_type": "text"
      },
      "cell_type": "markdown",
      "source": [
        "Put all your sound files into a single folder and maker sure to select all the files you want to reconstruct / interpolate between. **(Ctrl/Cmd/Shift Click)**"
      ]
    },
    {
      "metadata": {
        "id": "mPwQYyYgBkdp",
        "colab_type": "code",
        "colab": {
          "resources": {
            "http://localhost:8080/nbextensions/google.colab/files.js": {
              "data": "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",
              "ok": true,
              "headers": [
                [
                  "content-type",
                  "application/javascript"
                ]
              ],
              "status": 200,
              "status_text": ""
            }
          },
          "base_uri": "https://localhost:8080/",
          "height": 106
        },
        "outputId": "0a5b07fa-b523-43e5-cae0-e79c75fc694d"
      },
      "cell_type": "code",
      "source": [
        "#@title Upload sound files (.wav, .mp3)\n",
        "\n",
        "try:\n",
        "  file_list, audio_list = upload(sample_length=SAMPLE_LENGTH, sr=SR)\n",
        "  names = [get_name(f) for f in file_list]\n",
        "  # Pad and peak normalize\n",
        "  for i in range(len(audio_list)):\n",
        "    audio_list[i] = audio_list[i] / np.abs(audio_list[i]).max()\n",
        "\n",
        "    if len(audio_list[i]) < SAMPLE_LENGTH:\n",
        "      padding = SAMPLE_LENGTH - len(audio_list[i])\n",
        "      audio_list[i] = np.pad(audio_list[i], (0, padding), 'constant')\n",
        "\n",
        "  audio_list = np.array(audio_list)\n",
        "except Exception as e:\n",
        "  print('Upload Cancelled')\n",
        "  print(e)"
      ],
      "execution_count": 4,
      "outputs": [
        {
          "output_type": "display_data",
          "data": {
            "text/plain": [
              "<IPython.core.display.HTML object>"
            ],
            "text/html": [
              "\n",
              "     <input type=\"file\" id=\"files-dfa433e6-d323-40fe-9459-2a9554dba7cf\" name=\"files[]\" multiple disabled />\n",
              "     <output id=\"result-dfa433e6-d323-40fe-9459-2a9554dba7cf\">\n",
              "      Upload widget is only available when the cell has been executed in the\n",
              "      current browser session. Please rerun this cell to enable.\n",
              "      </output>\n",
              "      <script src=\"/nbextensions/google.colab/files.js\"></script> "
            ]
          },
          "metadata": {
            "tags": []
          }
        },
        {
          "output_type": "stream",
          "text": [
            "Saving Cello.wav to Cello.wav\n",
            "Saving Flute.wav to Flute.wav\n"
          ],
          "name": "stdout"
        }
      ]
    },
    {
      "metadata": {
        "id": "h4bsz5IkH_mH",
        "colab_type": "code",
        "colab": {
          "base_uri": "https://localhost:8080/",
          "height": 34
        },
        "outputId": "904a7364-afe9-4646-b5dd-55dd2e0565aa"
      },
      "cell_type": "code",
      "source": [
        "file_list"
      ],
      "execution_count": 8,
      "outputs": [
        {
          "output_type": "execute_result",
          "data": {
            "text/plain": [
              "[u'/content/Cello.wav', u'/content/Flute.wav']"
            ]
          },
          "metadata": {
            "tags": []
          },
          "execution_count": 8
        }
      ]
    },
    {
      "metadata": {
        "id": "dYQhseeKzCAV",
        "colab_type": "code",
        "colab": {
          "base_uri": "https://localhost:8080/",
          "height": 85
        },
        "outputId": "7849cae6-ab79-4a4b-fb74-e67e5bdfee40"
      },
      "cell_type": "code",
      "source": [
        "audio_list"
      ],
      "execution_count": 9,
      "outputs": [
        {
          "output_type": "execute_result",
          "data": {
            "text/plain": [
              "array([[-0.00014499, -0.001606  , -0.00341609, ...,  0.        ,\n",
              "         0.        ,  0.        ],\n",
              "       [ 0.00513335,  0.0003604 , -0.009982  , ...,  0.        ,\n",
              "         0.        ,  0.        ]], dtype=float32)"
            ]
          },
          "metadata": {
            "tags": []
          },
          "execution_count": 9
        }
      ]
    },
    {
      "metadata": {
        "id": "bQKDlAdW_qKn",
        "colab_type": "text"
      },
      "cell_type": "markdown",
      "source": [
        "# Encode\n",
        "\n",
        "Next we need to encode the audio. This should be relatively fast on a GPU, we will also create interpolations (the midpoints between each encoding) from which to re-synthesize audio."
      ]
    },
    {
      "metadata": {
        "id": "SSr-7vuH_29l",
        "colab_type": "code",
        "colab": {
          "base_uri": "https://localhost:8080/",
          "height": 68
        },
        "outputId": "d609d260-2147-4292-f51c-370d0ef835a4"
      },
      "cell_type": "code",
      "source": [
        "#@title Generate Encodings\n",
        "audio = np.array(audio_list)\n",
        "z = fastgen.encode(audio, ckpt_path, SAMPLE_LENGTH)\n",
        "print('Encoded %d files' % z.shape[0])\n",
        "\n",
        "\n",
        "# Start with reconstructions\n",
        "z_list = [z_ for z_ in z]\n",
        "name_list = ['recon_' + name_ for name_ in names]\n",
        "\n",
        "# Add all the mean interpolations\n",
        "n = len(names)\n",
        "for i in range(n - 1):\n",
        "  for j in range(i + 1, n):\n",
        "    new_z = (z[i] + z[j]) / 2.0\n",
        "    new_name = 'interp_' + names[i] + '_X_'+ names[j]\n",
        "    z_list.append(new_z)\n",
        "    name_list.append(new_name)\n",
        "\n",
        "print(\"%d total: %d reconstructions and %d interpolations\" % (len(name_list), n, len(name_list) - n))"
      ],
      "execution_count": 18,
      "outputs": [
        {
          "output_type": "stream",
          "text": [
            "INFO:tensorflow:Restoring parameters from /content/wavenet-ckpt/model.ckpt-200000\n",
            "Encoded 2 files\n",
            "3 total: 2 reconstructions and 1 interpolations\n"
          ],
          "name": "stdout"
        }
      ]
    },
    {
      "metadata": {
        "id": "hKR6CGUe_290",
        "colab_type": "text"
      },
      "cell_type": "markdown",
      "source": [
        "For fun, we can take a look at the encoding of our audio files. They are compressed representations of the audio but have some structure in their own right, (16 numbers, kind of like 16 channels of audio, so there are 16 different lines, colors are arbitrary). "
      ]
    },
    {
      "metadata": {
        "id": "7Cawft23_290",
        "colab_type": "code",
        "colab": {}
      },
      "cell_type": "code",
      "source": [
        "#@title Visualize Audio and Encoding { vertical-output: true, run: \"auto\" }\n",
        "SoundFile = 0 #@param {type:\"slider\", min:0, max:10, step:1}\n",
        "file_number = SoundFile\n",
        "\n",
        "try:\n",
        "  print(names[file_number])\n",
        "  play(audio_list[file_number], sample_rate=SR)\n",
        "  # fig, axs = plt.subplots(2, 1, figsize=(12, 10))\n",
        "  plt.figure()\n",
        "  plt.plot(audio_list[file_number])\n",
        "  plt.title('Audio Signal')\n",
        "\n",
        "  plt.figure()\n",
        "  plt.plot(z_list[file_number])\n",
        "  plt.title('NSynth Encoding')\n",
        "except Exception as e:\n",
        "  print e"
      ],
      "execution_count": 0,
      "outputs": []
    },
    {
      "metadata": {
        "id": "NGQfWut8U8QS",
        "colab_type": "text"
      },
      "cell_type": "markdown",
      "source": [
        "# Synthesize\n",
        "\n",
        "On the GPU, this should take about 4 minutes per 1 second of audio per a batch."
      ]
    },
    {
      "metadata": {
        "id": "3Eh71eovH4NZ",
        "colab_type": "code",
        "colab": {
          "base_uri": "https://localhost:8080/",
          "height": 15752
        },
        "outputId": "e508f202-dc80-431f-d582-513c26fbb6cc"
      },
      "cell_type": "code",
      "source": [
        "#@title Synthesize Interpolations\n",
        "print('Total Iterations to Complete: %d\\n' % SAMPLE_LENGTH)\n",
        "\n",
        "encodings = np.array(z_list)\n",
        "save_paths = ['/content/' + name + '.wav' for name in name_list]\n",
        "fastgen.synthesize(encodings,\n",
        "                   save_paths=save_paths,\n",
        "                   checkpoint_path=ckpt_path,\n",
        "                   samples_per_save=int(SAMPLE_LENGTH / 10))"
      ],
      "execution_count": 24,
      "outputs": [
        {
          "output_type": "stream",
          "text": [
            "Total Iterations to Complete: 96000\n",
            "\n",
            "INFO:tensorflow:Restoring parameters from /content/wavenet-ckpt/model.ckpt-200000\n",
            "INFO:tensorflow:Sample: 0\n",
            "INFO:tensorflow:Saving: /content/recon_Cello.wav\n",
            "INFO:tensorflow:Saving: /content/recon_Flute.wav\n",
            "INFO:tensorflow:Saving: /content/interp_Cello_X_Flute.wav\n",
            "INFO:tensorflow:Sample: 100\n",
            "INFO:tensorflow:Sample: 200\n",
            "INFO:tensorflow:Sample: 300\n",
            "INFO:tensorflow:Sample: 400\n",
            "INFO:tensorflow:Sample: 500\n",
            "INFO:tensorflow:Sample: 600\n",
            "INFO:tensorflow:Sample: 700\n",
            "INFO:tensorflow:Sample: 800\n",
            "INFO:tensorflow:Sample: 900\n",
            "INFO:tensorflow:Sample: 1000\n",
            "INFO:tensorflow:Sample: 1100\n",
            "INFO:tensorflow:Sample: 1200\n",
            "INFO:tensorflow:Sample: 1300\n",
            "INFO:tensorflow:Sample: 1400\n",
            "INFO:tensorflow:Sample: 1500\n",
            "INFO:tensorflow:Sample: 1600\n",
            "INFO:tensorflow:Sample: 1700\n",
            "INFO:tensorflow:Sample: 1800\n",
            "INFO:tensorflow:Sample: 1900\n",
            "INFO:tensorflow:Sample: 2000\n",
            "INFO:tensorflow:Sample: 2100\n",
            "INFO:tensorflow:Sample: 2200\n",
            "INFO:tensorflow:Sample: 2300\n",
            "INFO:tensorflow:Sample: 2400\n",
            "INFO:tensorflow:Sample: 2500\n",
            "INFO:tensorflow:Sample: 2600\n",
            "INFO:tensorflow:Sample: 2700\n",
            "INFO:tensorflow:Sample: 2800\n",
            "INFO:tensorflow:Sample: 2900\n",
            "INFO:tensorflow:Sample: 3000\n",
            "INFO:tensorflow:Sample: 3100\n",
            "INFO:tensorflow:Sample: 3200\n",
            "INFO:tensorflow:Sample: 3300\n",
            "INFO:tensorflow:Sample: 3400\n",
            "INFO:tensorflow:Sample: 3500\n",
            "INFO:tensorflow:Sample: 3600\n",
            "INFO:tensorflow:Sample: 3700\n",
            "INFO:tensorflow:Sample: 3800\n",
            "INFO:tensorflow:Sample: 3900\n",
            "INFO:tensorflow:Sample: 4000\n",
            "INFO:tensorflow:Sample: 4100\n",
            "INFO:tensorflow:Sample: 4200\n",
            "INFO:tensorflow:Sample: 4300\n",
            "INFO:tensorflow:Sample: 4400\n",
            "INFO:tensorflow:Sample: 4500\n",
            "INFO:tensorflow:Sample: 4600\n",
            "INFO:tensorflow:Sample: 4700\n",
            "INFO:tensorflow:Sample: 4800\n",
            "INFO:tensorflow:Sample: 4900\n",
            "INFO:tensorflow:Sample: 5000\n",
            "INFO:tensorflow:Sample: 5100\n",
            "INFO:tensorflow:Sample: 5200\n",
            "INFO:tensorflow:Sample: 5300\n",
            "INFO:tensorflow:Sample: 5400\n",
            "INFO:tensorflow:Sample: 5500\n",
            "INFO:tensorflow:Sample: 5600\n",
            "INFO:tensorflow:Sample: 5700\n",
            "INFO:tensorflow:Sample: 5800\n",
            "INFO:tensorflow:Sample: 5900\n",
            "INFO:tensorflow:Sample: 6000\n",
            "INFO:tensorflow:Sample: 6100\n",
            "INFO:tensorflow:Sample: 6200\n",
            "INFO:tensorflow:Sample: 6300\n",
            "INFO:tensorflow:Sample: 6400\n",
            "INFO:tensorflow:Sample: 6500\n",
            "INFO:tensorflow:Sample: 6600\n",
            "INFO:tensorflow:Sample: 6700\n",
            "INFO:tensorflow:Sample: 6800\n",
            "INFO:tensorflow:Sample: 6900\n",
            "INFO:tensorflow:Sample: 7000\n",
            "INFO:tensorflow:Sample: 7100\n",
            "INFO:tensorflow:Sample: 7200\n"
          ],
          "name": "stdout"
        },
        {
          "output_type": "stream",
          "text": [
            "INFO:tensorflow:Sample: 7300\n",
            "INFO:tensorflow:Sample: 7400\n",
            "INFO:tensorflow:Sample: 7500\n",
            "INFO:tensorflow:Sample: 7600\n",
            "INFO:tensorflow:Sample: 7700\n",
            "INFO:tensorflow:Sample: 7800\n",
            "INFO:tensorflow:Sample: 7900\n",
            "INFO:tensorflow:Sample: 8000\n",
            "INFO:tensorflow:Sample: 8100\n",
            "INFO:tensorflow:Sample: 8200\n",
            "INFO:tensorflow:Sample: 8300\n",
            "INFO:tensorflow:Sample: 8400\n",
            "INFO:tensorflow:Sample: 8500\n",
            "INFO:tensorflow:Sample: 8600\n",
            "INFO:tensorflow:Sample: 8700\n",
            "INFO:tensorflow:Sample: 8800\n",
            "INFO:tensorflow:Sample: 8900\n",
            "INFO:tensorflow:Sample: 9000\n",
            "INFO:tensorflow:Sample: 9100\n",
            "INFO:tensorflow:Sample: 9200\n",
            "INFO:tensorflow:Sample: 9300\n",
            "INFO:tensorflow:Sample: 9400\n",
            "INFO:tensorflow:Sample: 9500\n",
            "INFO:tensorflow:Sample: 9600\n",
            "INFO:tensorflow:Saving: /content/recon_Cello.wav\n",
            "INFO:tensorflow:Saving: /content/recon_Flute.wav\n",
            "INFO:tensorflow:Saving: /content/interp_Cello_X_Flute.wav\n",
            "INFO:tensorflow:Sample: 9700\n",
            "INFO:tensorflow:Sample: 9800\n",
            "INFO:tensorflow:Sample: 9900\n",
            "INFO:tensorflow:Sample: 10000\n",
            "INFO:tensorflow:Sample: 10100\n",
            "INFO:tensorflow:Sample: 10200\n",
            "INFO:tensorflow:Sample: 10300\n",
            "INFO:tensorflow:Sample: 10400\n",
            "INFO:tensorflow:Sample: 10500\n",
            "INFO:tensorflow:Sample: 10600\n",
            "INFO:tensorflow:Sample: 10700\n",
            "INFO:tensorflow:Sample: 10800\n",
            "INFO:tensorflow:Sample: 10900\n",
            "INFO:tensorflow:Sample: 11000\n",
            "INFO:tensorflow:Sample: 11100\n",
            "INFO:tensorflow:Sample: 11200\n",
            "INFO:tensorflow:Sample: 11300\n",
            "INFO:tensorflow:Sample: 11400\n",
            "INFO:tensorflow:Sample: 11500\n",
            "INFO:tensorflow:Sample: 11600\n",
            "INFO:tensorflow:Sample: 11700\n",
            "INFO:tensorflow:Sample: 11800\n",
            "INFO:tensorflow:Sample: 11900\n",
            "INFO:tensorflow:Sample: 12000\n",
            "INFO:tensorflow:Sample: 12100\n",
            "INFO:tensorflow:Sample: 12200\n",
            "INFO:tensorflow:Sample: 12300\n",
            "INFO:tensorflow:Sample: 12400\n",
            "INFO:tensorflow:Sample: 12500\n",
            "INFO:tensorflow:Sample: 12600\n",
            "INFO:tensorflow:Sample: 12700\n",
            "INFO:tensorflow:Sample: 12800\n",
            "INFO:tensorflow:Sample: 12900\n",
            "INFO:tensorflow:Sample: 13000\n",
            "INFO:tensorflow:Sample: 13100\n",
            "INFO:tensorflow:Sample: 13200\n",
            "INFO:tensorflow:Sample: 13300\n",
            "INFO:tensorflow:Sample: 13400\n",
            "INFO:tensorflow:Sample: 13500\n",
            "INFO:tensorflow:Sample: 13600\n",
            "INFO:tensorflow:Sample: 13700\n",
            "INFO:tensorflow:Sample: 13800\n",
            "INFO:tensorflow:Sample: 13900\n",
            "INFO:tensorflow:Sample: 14000\n",
            "INFO:tensorflow:Sample: 14100\n",
            "INFO:tensorflow:Sample: 14200\n",
            "INFO:tensorflow:Sample: 14300\n",
            "INFO:tensorflow:Sample: 14400\n",
            "INFO:tensorflow:Sample: 14500\n",
            "INFO:tensorflow:Sample: 14600\n",
            "INFO:tensorflow:Sample: 14700\n",
            "INFO:tensorflow:Sample: 14800\n",
            "INFO:tensorflow:Sample: 14900\n"
          ],
          "name": "stdout"
        },
        {
          "output_type": "stream",
          "text": [
            "INFO:tensorflow:Sample: 15000\n",
            "INFO:tensorflow:Sample: 15100\n",
            "INFO:tensorflow:Sample: 15200\n",
            "INFO:tensorflow:Sample: 15300\n",
            "INFO:tensorflow:Sample: 15400\n",
            "INFO:tensorflow:Sample: 15500\n",
            "INFO:tensorflow:Sample: 15600\n",
            "INFO:tensorflow:Sample: 15700\n",
            "INFO:tensorflow:Sample: 15800\n",
            "INFO:tensorflow:Sample: 15900\n",
            "INFO:tensorflow:Sample: 16000\n",
            "INFO:tensorflow:Sample: 16100\n",
            "INFO:tensorflow:Sample: 16200\n",
            "INFO:tensorflow:Sample: 16300\n",
            "INFO:tensorflow:Sample: 16400\n",
            "INFO:tensorflow:Sample: 16500\n",
            "INFO:tensorflow:Sample: 16600\n",
            "INFO:tensorflow:Sample: 16700\n",
            "INFO:tensorflow:Sample: 16800\n",
            "INFO:tensorflow:Sample: 16900\n",
            "INFO:tensorflow:Sample: 17000\n",
            "INFO:tensorflow:Sample: 17100\n",
            "INFO:tensorflow:Sample: 17200\n",
            "INFO:tensorflow:Sample: 17300\n",
            "INFO:tensorflow:Sample: 17400\n",
            "INFO:tensorflow:Sample: 17500\n",
            "INFO:tensorflow:Sample: 17600\n",
            "INFO:tensorflow:Sample: 17700\n",
            "INFO:tensorflow:Sample: 17800\n",
            "INFO:tensorflow:Sample: 17900\n",
            "INFO:tensorflow:Sample: 18000\n",
            "INFO:tensorflow:Sample: 18100\n",
            "INFO:tensorflow:Sample: 18200\n",
            "INFO:tensorflow:Sample: 18300\n",
            "INFO:tensorflow:Sample: 18400\n",
            "INFO:tensorflow:Sample: 18500\n",
            "INFO:tensorflow:Sample: 18600\n",
            "INFO:tensorflow:Sample: 18700\n",
            "INFO:tensorflow:Sample: 18800\n",
            "INFO:tensorflow:Sample: 18900\n",
            "INFO:tensorflow:Sample: 19000\n",
            "INFO:tensorflow:Sample: 19100\n",
            "INFO:tensorflow:Sample: 19200\n",
            "INFO:tensorflow:Saving: /content/recon_Cello.wav\n",
            "INFO:tensorflow:Saving: /content/recon_Flute.wav\n",
            "INFO:tensorflow:Saving: /content/interp_Cello_X_Flute.wav\n",
            "INFO:tensorflow:Sample: 19300\n",
            "INFO:tensorflow:Sample: 19400\n",
            "INFO:tensorflow:Sample: 19500\n",
            "INFO:tensorflow:Sample: 19600\n",
            "INFO:tensorflow:Sample: 19700\n",
            "INFO:tensorflow:Sample: 19800\n",
            "INFO:tensorflow:Sample: 19900\n",
            "INFO:tensorflow:Sample: 20000\n",
            "INFO:tensorflow:Sample: 20100\n",
            "INFO:tensorflow:Sample: 20200\n",
            "INFO:tensorflow:Sample: 20300\n",
            "INFO:tensorflow:Sample: 20400\n",
            "INFO:tensorflow:Sample: 20500\n",
            "INFO:tensorflow:Sample: 20600\n",
            "INFO:tensorflow:Sample: 20700\n",
            "INFO:tensorflow:Sample: 20800\n",
            "INFO:tensorflow:Sample: 20900\n",
            "INFO:tensorflow:Sample: 21000\n",
            "INFO:tensorflow:Sample: 21100\n",
            "INFO:tensorflow:Sample: 21200\n",
            "INFO:tensorflow:Sample: 21300\n",
            "INFO:tensorflow:Sample: 21400\n",
            "INFO:tensorflow:Sample: 21500\n",
            "INFO:tensorflow:Sample: 21600\n",
            "INFO:tensorflow:Sample: 21700\n",
            "INFO:tensorflow:Sample: 21800\n",
            "INFO:tensorflow:Sample: 21900\n",
            "INFO:tensorflow:Sample: 22000\n",
            "INFO:tensorflow:Sample: 22100\n",
            "INFO:tensorflow:Sample: 22200\n",
            "INFO:tensorflow:Sample: 22300\n",
            "INFO:tensorflow:Sample: 22400\n",
            "INFO:tensorflow:Sample: 22500\n",
            "INFO:tensorflow:Sample: 22600\n"
          ],
          "name": "stdout"
        },
        {
          "output_type": "stream",
          "text": [
            "INFO:tensorflow:Sample: 22700\n",
            "INFO:tensorflow:Sample: 22800\n",
            "INFO:tensorflow:Sample: 22900\n",
            "INFO:tensorflow:Sample: 23000\n",
            "INFO:tensorflow:Sample: 23100\n",
            "INFO:tensorflow:Sample: 23200\n",
            "INFO:tensorflow:Sample: 23300\n",
            "INFO:tensorflow:Sample: 23400\n",
            "INFO:tensorflow:Sample: 23500\n",
            "INFO:tensorflow:Sample: 23600\n",
            "INFO:tensorflow:Sample: 23700\n",
            "INFO:tensorflow:Sample: 23800\n",
            "INFO:tensorflow:Sample: 23900\n",
            "INFO:tensorflow:Sample: 24000\n",
            "INFO:tensorflow:Sample: 24100\n",
            "INFO:tensorflow:Sample: 24200\n",
            "INFO:tensorflow:Sample: 24300\n",
            "INFO:tensorflow:Sample: 24400\n",
            "INFO:tensorflow:Sample: 24500\n",
            "INFO:tensorflow:Sample: 24600\n",
            "INFO:tensorflow:Sample: 24700\n",
            "INFO:tensorflow:Sample: 24800\n",
            "INFO:tensorflow:Sample: 24900\n",
            "INFO:tensorflow:Sample: 25000\n",
            "INFO:tensorflow:Sample: 25100\n",
            "INFO:tensorflow:Sample: 25200\n",
            "INFO:tensorflow:Sample: 25300\n",
            "INFO:tensorflow:Sample: 25400\n",
            "INFO:tensorflow:Sample: 25500\n",
            "INFO:tensorflow:Sample: 25600\n",
            "INFO:tensorflow:Sample: 25700\n",
            "INFO:tensorflow:Sample: 25800\n",
            "INFO:tensorflow:Sample: 25900\n",
            "INFO:tensorflow:Sample: 26000\n",
            "INFO:tensorflow:Sample: 26100\n",
            "INFO:tensorflow:Sample: 26200\n",
            "INFO:tensorflow:Sample: 26300\n",
            "INFO:tensorflow:Sample: 26400\n",
            "INFO:tensorflow:Sample: 26500\n",
            "INFO:tensorflow:Sample: 26600\n",
            "INFO:tensorflow:Sample: 26700\n",
            "INFO:tensorflow:Sample: 26800\n",
            "INFO:tensorflow:Sample: 26900\n",
            "INFO:tensorflow:Sample: 27000\n",
            "INFO:tensorflow:Sample: 27100\n",
            "INFO:tensorflow:Sample: 27200\n",
            "INFO:tensorflow:Sample: 27300\n",
            "INFO:tensorflow:Sample: 27400\n",
            "INFO:tensorflow:Sample: 27500\n",
            "INFO:tensorflow:Sample: 27600\n",
            "INFO:tensorflow:Sample: 27700\n",
            "INFO:tensorflow:Sample: 27800\n",
            "INFO:tensorflow:Sample: 27900\n",
            "INFO:tensorflow:Sample: 28000\n",
            "INFO:tensorflow:Sample: 28100\n",
            "INFO:tensorflow:Sample: 28200\n",
            "INFO:tensorflow:Sample: 28300\n",
            "INFO:tensorflow:Sample: 28400\n",
            "INFO:tensorflow:Sample: 28500\n",
            "INFO:tensorflow:Sample: 28600\n",
            "INFO:tensorflow:Sample: 28700\n",
            "INFO:tensorflow:Sample: 28800\n",
            "INFO:tensorflow:Saving: /content/recon_Cello.wav\n",
            "INFO:tensorflow:Saving: /content/recon_Flute.wav\n",
            "INFO:tensorflow:Saving: /content/interp_Cello_X_Flute.wav\n",
            "INFO:tensorflow:Sample: 28900\n",
            "INFO:tensorflow:Sample: 29000\n",
            "INFO:tensorflow:Sample: 29100\n",
            "INFO:tensorflow:Sample: 29200\n",
            "INFO:tensorflow:Sample: 29300\n",
            "INFO:tensorflow:Sample: 29400\n",
            "INFO:tensorflow:Sample: 29500\n",
            "INFO:tensorflow:Sample: 29600\n",
            "INFO:tensorflow:Sample: 29700\n",
            "INFO:tensorflow:Sample: 29800\n",
            "INFO:tensorflow:Sample: 29900\n",
            "INFO:tensorflow:Sample: 30000\n",
            "INFO:tensorflow:Sample: 30100\n",
            "INFO:tensorflow:Sample: 30200\n",
            "INFO:tensorflow:Sample: 30300\n"
          ],
          "name": "stdout"
        },
        {
          "output_type": "stream",
          "text": [
            "INFO:tensorflow:Sample: 30400\n",
            "INFO:tensorflow:Sample: 30500\n",
            "INFO:tensorflow:Sample: 30600\n",
            "INFO:tensorflow:Sample: 30700\n",
            "INFO:tensorflow:Sample: 30800\n",
            "INFO:tensorflow:Sample: 30900\n",
            "INFO:tensorflow:Sample: 31000\n",
            "INFO:tensorflow:Sample: 31100\n",
            "INFO:tensorflow:Sample: 31200\n",
            "INFO:tensorflow:Sample: 31300\n",
            "INFO:tensorflow:Sample: 31400\n",
            "INFO:tensorflow:Sample: 31500\n",
            "INFO:tensorflow:Sample: 31600\n",
            "INFO:tensorflow:Sample: 31700\n",
            "INFO:tensorflow:Sample: 31800\n",
            "INFO:tensorflow:Sample: 31900\n",
            "INFO:tensorflow:Sample: 32000\n",
            "INFO:tensorflow:Sample: 32100\n",
            "INFO:tensorflow:Sample: 32200\n",
            "INFO:tensorflow:Sample: 32300\n",
            "INFO:tensorflow:Sample: 32400\n",
            "INFO:tensorflow:Sample: 32500\n",
            "INFO:tensorflow:Sample: 32600\n",
            "INFO:tensorflow:Sample: 32700\n",
            "INFO:tensorflow:Sample: 32800\n",
            "INFO:tensorflow:Sample: 32900\n",
            "INFO:tensorflow:Sample: 33000\n",
            "INFO:tensorflow:Sample: 33100\n",
            "INFO:tensorflow:Sample: 33200\n",
            "INFO:tensorflow:Sample: 33300\n",
            "INFO:tensorflow:Sample: 33400\n",
            "INFO:tensorflow:Sample: 33500\n",
            "INFO:tensorflow:Sample: 33600\n",
            "INFO:tensorflow:Sample: 33700\n",
            "INFO:tensorflow:Sample: 33800\n",
            "INFO:tensorflow:Sample: 33900\n",
            "INFO:tensorflow:Sample: 34000\n",
            "INFO:tensorflow:Sample: 34100\n",
            "INFO:tensorflow:Sample: 34200\n",
            "INFO:tensorflow:Sample: 34300\n",
            "INFO:tensorflow:Sample: 34400\n",
            "INFO:tensorflow:Sample: 34500\n",
            "INFO:tensorflow:Sample: 34600\n",
            "INFO:tensorflow:Sample: 34700\n",
            "INFO:tensorflow:Sample: 34800\n",
            "INFO:tensorflow:Sample: 34900\n",
            "INFO:tensorflow:Sample: 35000\n",
            "INFO:tensorflow:Sample: 35100\n",
            "INFO:tensorflow:Sample: 35200\n",
            "INFO:tensorflow:Sample: 35300\n",
            "INFO:tensorflow:Sample: 35400\n",
            "INFO:tensorflow:Sample: 35500\n",
            "INFO:tensorflow:Sample: 35600\n",
            "INFO:tensorflow:Sample: 35700\n",
            "INFO:tensorflow:Sample: 35800\n",
            "INFO:tensorflow:Sample: 35900\n",
            "INFO:tensorflow:Sample: 36000\n",
            "INFO:tensorflow:Sample: 36100\n",
            "INFO:tensorflow:Sample: 36200\n",
            "INFO:tensorflow:Sample: 36300\n",
            "INFO:tensorflow:Sample: 36400\n",
            "INFO:tensorflow:Sample: 36500\n",
            "INFO:tensorflow:Sample: 36600\n",
            "INFO:tensorflow:Sample: 36700\n",
            "INFO:tensorflow:Sample: 36800\n",
            "INFO:tensorflow:Sample: 36900\n",
            "INFO:tensorflow:Sample: 37000\n",
            "INFO:tensorflow:Sample: 37100\n",
            "INFO:tensorflow:Sample: 37200\n",
            "INFO:tensorflow:Sample: 37300\n",
            "INFO:tensorflow:Sample: 37400\n",
            "INFO:tensorflow:Sample: 37500\n",
            "INFO:tensorflow:Sample: 37600\n",
            "INFO:tensorflow:Sample: 37700\n",
            "INFO:tensorflow:Sample: 37800\n",
            "INFO:tensorflow:Sample: 37900\n",
            "INFO:tensorflow:Sample: 38000\n",
            "INFO:tensorflow:Sample: 38100\n",
            "INFO:tensorflow:Sample: 38200\n",
            "INFO:tensorflow:Sample: 38300\n",
            "INFO:tensorflow:Sample: 38400\n"
          ],
          "name": "stdout"
        },
        {
          "output_type": "stream",
          "text": [
            "INFO:tensorflow:Saving: /content/recon_Cello.wav\n",
            "INFO:tensorflow:Saving: /content/recon_Flute.wav\n",
            "INFO:tensorflow:Saving: /content/interp_Cello_X_Flute.wav\n",
            "INFO:tensorflow:Sample: 38500\n",
            "INFO:tensorflow:Sample: 38600\n",
            "INFO:tensorflow:Sample: 38700\n",
            "INFO:tensorflow:Sample: 38800\n",
            "INFO:tensorflow:Sample: 38900\n",
            "INFO:tensorflow:Sample: 39000\n",
            "INFO:tensorflow:Sample: 39100\n",
            "INFO:tensorflow:Sample: 39200\n",
            "INFO:tensorflow:Sample: 39300\n",
            "INFO:tensorflow:Sample: 39400\n",
            "INFO:tensorflow:Sample: 39500\n",
            "INFO:tensorflow:Sample: 39600\n",
            "INFO:tensorflow:Sample: 39700\n",
            "INFO:tensorflow:Sample: 39800\n",
            "INFO:tensorflow:Sample: 39900\n",
            "INFO:tensorflow:Sample: 40000\n",
            "INFO:tensorflow:Sample: 40100\n",
            "INFO:tensorflow:Sample: 40200\n",
            "INFO:tensorflow:Sample: 40300\n",
            "INFO:tensorflow:Sample: 40400\n",
            "INFO:tensorflow:Sample: 40500\n",
            "INFO:tensorflow:Sample: 40600\n",
            "INFO:tensorflow:Sample: 40700\n",
            "INFO:tensorflow:Sample: 40800\n",
            "INFO:tensorflow:Sample: 40900\n",
            "INFO:tensorflow:Sample: 41000\n",
            "INFO:tensorflow:Sample: 41100\n",
            "INFO:tensorflow:Sample: 41200\n",
            "INFO:tensorflow:Sample: 41300\n",
            "INFO:tensorflow:Sample: 41400\n",
            "INFO:tensorflow:Sample: 41500\n",
            "INFO:tensorflow:Sample: 41600\n",
            "INFO:tensorflow:Sample: 41700\n",
            "INFO:tensorflow:Sample: 41800\n",
            "INFO:tensorflow:Sample: 41900\n",
            "INFO:tensorflow:Sample: 42000\n",
            "INFO:tensorflow:Sample: 42100\n",
            "INFO:tensorflow:Sample: 42200\n",
            "INFO:tensorflow:Sample: 42300\n",
            "INFO:tensorflow:Sample: 42400\n",
            "INFO:tensorflow:Sample: 42500\n",
            "INFO:tensorflow:Sample: 42600\n",
            "INFO:tensorflow:Sample: 42700\n",
            "INFO:tensorflow:Sample: 42800\n",
            "INFO:tensorflow:Sample: 42900\n",
            "INFO:tensorflow:Sample: 43000\n",
            "INFO:tensorflow:Sample: 43100\n",
            "INFO:tensorflow:Sample: 43200\n",
            "INFO:tensorflow:Sample: 43300\n",
            "INFO:tensorflow:Sample: 43400\n",
            "INFO:tensorflow:Sample: 43500\n",
            "INFO:tensorflow:Sample: 43600\n",
            "INFO:tensorflow:Sample: 43700\n",
            "INFO:tensorflow:Sample: 43800\n",
            "INFO:tensorflow:Sample: 43900\n",
            "INFO:tensorflow:Sample: 44000\n",
            "INFO:tensorflow:Sample: 44100\n",
            "INFO:tensorflow:Sample: 44200\n",
            "INFO:tensorflow:Sample: 44300\n",
            "INFO:tensorflow:Sample: 44400\n",
            "INFO:tensorflow:Sample: 44500\n",
            "INFO:tensorflow:Sample: 44600\n",
            "INFO:tensorflow:Sample: 44700\n",
            "INFO:tensorflow:Sample: 44800\n",
            "INFO:tensorflow:Sample: 44900\n",
            "INFO:tensorflow:Sample: 45000\n",
            "INFO:tensorflow:Sample: 45100\n",
            "INFO:tensorflow:Sample: 45200\n",
            "INFO:tensorflow:Sample: 45300\n",
            "INFO:tensorflow:Sample: 45400\n",
            "INFO:tensorflow:Sample: 45500\n",
            "INFO:tensorflow:Sample: 45600\n",
            "INFO:tensorflow:Sample: 45700\n",
            "INFO:tensorflow:Sample: 45800\n",
            "INFO:tensorflow:Sample: 45900\n",
            "INFO:tensorflow:Sample: 46000\n"
          ],
          "name": "stdout"
        },
        {
          "output_type": "stream",
          "text": [
            "INFO:tensorflow:Sample: 46100\n",
            "INFO:tensorflow:Sample: 46200\n",
            "INFO:tensorflow:Sample: 46300\n",
            "INFO:tensorflow:Sample: 46400\n",
            "INFO:tensorflow:Sample: 46500\n",
            "INFO:tensorflow:Sample: 46600\n",
            "INFO:tensorflow:Sample: 46700\n",
            "INFO:tensorflow:Sample: 46800\n",
            "INFO:tensorflow:Sample: 46900\n",
            "INFO:tensorflow:Sample: 47000\n",
            "INFO:tensorflow:Sample: 47100\n",
            "INFO:tensorflow:Sample: 47200\n",
            "INFO:tensorflow:Sample: 47300\n",
            "INFO:tensorflow:Sample: 47400\n",
            "INFO:tensorflow:Sample: 47500\n",
            "INFO:tensorflow:Sample: 47600\n",
            "INFO:tensorflow:Sample: 47700\n",
            "INFO:tensorflow:Sample: 47800\n",
            "INFO:tensorflow:Sample: 47900\n",
            "INFO:tensorflow:Sample: 48000\n",
            "INFO:tensorflow:Saving: /content/recon_Cello.wav\n",
            "INFO:tensorflow:Saving: /content/recon_Flute.wav\n",
            "INFO:tensorflow:Saving: /content/interp_Cello_X_Flute.wav\n",
            "INFO:tensorflow:Sample: 48100\n",
            "INFO:tensorflow:Sample: 48200\n",
            "INFO:tensorflow:Sample: 48300\n",
            "INFO:tensorflow:Sample: 48400\n",
            "INFO:tensorflow:Sample: 48500\n",
            "INFO:tensorflow:Sample: 48600\n",
            "INFO:tensorflow:Sample: 48700\n",
            "INFO:tensorflow:Sample: 48800\n",
            "INFO:tensorflow:Sample: 48900\n",
            "INFO:tensorflow:Sample: 49000\n",
            "INFO:tensorflow:Sample: 49100\n",
            "INFO:tensorflow:Sample: 49200\n",
            "INFO:tensorflow:Sample: 49300\n",
            "INFO:tensorflow:Sample: 49400\n",
            "INFO:tensorflow:Sample: 49500\n",
            "INFO:tensorflow:Sample: 49600\n",
            "INFO:tensorflow:Sample: 49700\n",
            "INFO:tensorflow:Sample: 49800\n",
            "INFO:tensorflow:Sample: 49900\n",
            "INFO:tensorflow:Sample: 50000\n",
            "INFO:tensorflow:Sample: 50100\n",
            "INFO:tensorflow:Sample: 50200\n",
            "INFO:tensorflow:Sample: 50300\n",
            "INFO:tensorflow:Sample: 50400\n",
            "INFO:tensorflow:Sample: 50500\n",
            "INFO:tensorflow:Sample: 50600\n",
            "INFO:tensorflow:Sample: 50700\n",
            "INFO:tensorflow:Sample: 50800\n",
            "INFO:tensorflow:Sample: 50900\n",
            "INFO:tensorflow:Sample: 51000\n",
            "INFO:tensorflow:Sample: 51100\n",
            "INFO:tensorflow:Sample: 51200\n",
            "INFO:tensorflow:Sample: 51300\n",
            "INFO:tensorflow:Sample: 51400\n",
            "INFO:tensorflow:Sample: 51500\n",
            "INFO:tensorflow:Sample: 51600\n",
            "INFO:tensorflow:Sample: 51700\n",
            "INFO:tensorflow:Sample: 51800\n",
            "INFO:tensorflow:Sample: 51900\n",
            "INFO:tensorflow:Sample: 52000\n",
            "INFO:tensorflow:Sample: 52100\n",
            "INFO:tensorflow:Sample: 52200\n",
            "INFO:tensorflow:Sample: 52300\n",
            "INFO:tensorflow:Sample: 52400\n",
            "INFO:tensorflow:Sample: 52500\n",
            "INFO:tensorflow:Sample: 52600\n",
            "INFO:tensorflow:Sample: 52700\n",
            "INFO:tensorflow:Sample: 52800\n",
            "INFO:tensorflow:Sample: 52900\n",
            "INFO:tensorflow:Sample: 53000\n",
            "INFO:tensorflow:Sample: 53100\n",
            "INFO:tensorflow:Sample: 53200\n",
            "INFO:tensorflow:Sample: 53300\n",
            "INFO:tensorflow:Sample: 53400\n",
            "INFO:tensorflow:Sample: 53500\n",
            "INFO:tensorflow:Sample: 53600\n"
          ],
          "name": "stdout"
        },
        {
          "output_type": "stream",
          "text": [
            "INFO:tensorflow:Sample: 53700\n",
            "INFO:tensorflow:Sample: 53800\n",
            "INFO:tensorflow:Sample: 53900\n",
            "INFO:tensorflow:Sample: 54000\n",
            "INFO:tensorflow:Sample: 54100\n",
            "INFO:tensorflow:Sample: 54200\n",
            "INFO:tensorflow:Sample: 54300\n",
            "INFO:tensorflow:Sample: 54400\n",
            "INFO:tensorflow:Sample: 54500\n",
            "INFO:tensorflow:Sample: 54600\n",
            "INFO:tensorflow:Sample: 54700\n",
            "INFO:tensorflow:Sample: 54800\n",
            "INFO:tensorflow:Sample: 54900\n",
            "INFO:tensorflow:Sample: 55000\n",
            "INFO:tensorflow:Sample: 55100\n",
            "INFO:tensorflow:Sample: 55200\n",
            "INFO:tensorflow:Sample: 55300\n",
            "INFO:tensorflow:Sample: 55400\n",
            "INFO:tensorflow:Sample: 55500\n",
            "INFO:tensorflow:Sample: 55600\n",
            "INFO:tensorflow:Sample: 55700\n",
            "INFO:tensorflow:Sample: 55800\n",
            "INFO:tensorflow:Sample: 55900\n",
            "INFO:tensorflow:Sample: 56000\n",
            "INFO:tensorflow:Sample: 56100\n",
            "INFO:tensorflow:Sample: 56200\n",
            "INFO:tensorflow:Sample: 56300\n",
            "INFO:tensorflow:Sample: 56400\n",
            "INFO:tensorflow:Sample: 56500\n",
            "INFO:tensorflow:Sample: 56600\n",
            "INFO:tensorflow:Sample: 56700\n",
            "INFO:tensorflow:Sample: 56800\n",
            "INFO:tensorflow:Sample: 56900\n",
            "INFO:tensorflow:Sample: 57000\n",
            "INFO:tensorflow:Sample: 57100\n",
            "INFO:tensorflow:Sample: 57200\n",
            "INFO:tensorflow:Sample: 57300\n",
            "INFO:tensorflow:Sample: 57400\n",
            "INFO:tensorflow:Sample: 57500\n",
            "INFO:tensorflow:Sample: 57600\n",
            "INFO:tensorflow:Saving: /content/recon_Cello.wav\n",
            "INFO:tensorflow:Saving: /content/recon_Flute.wav\n",
            "INFO:tensorflow:Saving: /content/interp_Cello_X_Flute.wav\n",
            "INFO:tensorflow:Sample: 57700\n",
            "INFO:tensorflow:Sample: 57800\n",
            "INFO:tensorflow:Sample: 57900\n",
            "INFO:tensorflow:Sample: 58000\n",
            "INFO:tensorflow:Sample: 58100\n",
            "INFO:tensorflow:Sample: 58200\n",
            "INFO:tensorflow:Sample: 58300\n",
            "INFO:tensorflow:Sample: 58400\n",
            "INFO:tensorflow:Sample: 58500\n",
            "INFO:tensorflow:Sample: 58600\n",
            "INFO:tensorflow:Sample: 58700\n",
            "INFO:tensorflow:Sample: 58800\n",
            "INFO:tensorflow:Sample: 58900\n",
            "INFO:tensorflow:Sample: 59000\n",
            "INFO:tensorflow:Sample: 59100\n",
            "INFO:tensorflow:Sample: 59200\n",
            "INFO:tensorflow:Sample: 59300\n",
            "INFO:tensorflow:Sample: 59400\n",
            "INFO:tensorflow:Sample: 59500\n",
            "INFO:tensorflow:Sample: 59600\n",
            "INFO:tensorflow:Sample: 59700\n",
            "INFO:tensorflow:Sample: 59800\n",
            "INFO:tensorflow:Sample: 59900\n",
            "INFO:tensorflow:Sample: 60000\n",
            "INFO:tensorflow:Sample: 60100\n",
            "INFO:tensorflow:Sample: 60200\n",
            "INFO:tensorflow:Sample: 60300\n",
            "INFO:tensorflow:Sample: 60400\n",
            "INFO:tensorflow:Sample: 60500\n",
            "INFO:tensorflow:Sample: 60600\n",
            "INFO:tensorflow:Sample: 60700\n",
            "INFO:tensorflow:Sample: 60800\n",
            "INFO:tensorflow:Sample: 60900\n",
            "INFO:tensorflow:Sample: 61000\n",
            "INFO:tensorflow:Sample: 61100\n",
            "INFO:tensorflow:Sample: 61200\n",
            "INFO:tensorflow:Sample: 61300\n"
          ],
          "name": "stdout"
        },
        {
          "output_type": "stream",
          "text": [
            "INFO:tensorflow:Sample: 61400\n",
            "INFO:tensorflow:Sample: 61500\n",
            "INFO:tensorflow:Sample: 61600\n",
            "INFO:tensorflow:Sample: 61700\n",
            "INFO:tensorflow:Sample: 61800\n",
            "INFO:tensorflow:Sample: 61900\n",
            "INFO:tensorflow:Sample: 62000\n",
            "INFO:tensorflow:Sample: 62100\n",
            "INFO:tensorflow:Sample: 62200\n",
            "INFO:tensorflow:Sample: 62300\n",
            "INFO:tensorflow:Sample: 62400\n",
            "INFO:tensorflow:Sample: 62500\n",
            "INFO:tensorflow:Sample: 62600\n",
            "INFO:tensorflow:Sample: 62700\n",
            "INFO:tensorflow:Sample: 62800\n",
            "INFO:tensorflow:Sample: 62900\n",
            "INFO:tensorflow:Sample: 63000\n",
            "INFO:tensorflow:Sample: 63100\n",
            "INFO:tensorflow:Sample: 63200\n",
            "INFO:tensorflow:Sample: 63300\n",
            "INFO:tensorflow:Sample: 63400\n",
            "INFO:tensorflow:Sample: 63500\n",
            "INFO:tensorflow:Sample: 63600\n",
            "INFO:tensorflow:Sample: 63700\n",
            "INFO:tensorflow:Sample: 63800\n",
            "INFO:tensorflow:Sample: 63900\n",
            "INFO:tensorflow:Sample: 64000\n",
            "INFO:tensorflow:Sample: 64100\n",
            "INFO:tensorflow:Sample: 64200\n",
            "INFO:tensorflow:Sample: 64300\n",
            "INFO:tensorflow:Sample: 64400\n",
            "INFO:tensorflow:Sample: 64500\n",
            "INFO:tensorflow:Sample: 64600\n",
            "INFO:tensorflow:Sample: 64700\n",
            "INFO:tensorflow:Sample: 64800\n",
            "INFO:tensorflow:Sample: 64900\n",
            "INFO:tensorflow:Sample: 65000\n",
            "INFO:tensorflow:Sample: 65100\n",
            "INFO:tensorflow:Sample: 65200\n",
            "INFO:tensorflow:Sample: 65300\n",
            "INFO:tensorflow:Sample: 65400\n",
            "INFO:tensorflow:Sample: 65500\n",
            "INFO:tensorflow:Sample: 65600\n",
            "INFO:tensorflow:Sample: 65700\n",
            "INFO:tensorflow:Sample: 65800\n",
            "INFO:tensorflow:Sample: 65900\n",
            "INFO:tensorflow:Sample: 66000\n",
            "INFO:tensorflow:Sample: 66100\n",
            "INFO:tensorflow:Sample: 66200\n",
            "INFO:tensorflow:Sample: 66300\n",
            "INFO:tensorflow:Sample: 66400\n",
            "INFO:tensorflow:Sample: 66500\n",
            "INFO:tensorflow:Sample: 66600\n",
            "INFO:tensorflow:Sample: 66700\n",
            "INFO:tensorflow:Sample: 66800\n",
            "INFO:tensorflow:Sample: 66900\n",
            "INFO:tensorflow:Sample: 67000\n",
            "INFO:tensorflow:Sample: 67100\n",
            "INFO:tensorflow:Sample: 67200\n",
            "INFO:tensorflow:Saving: /content/recon_Cello.wav\n",
            "INFO:tensorflow:Saving: /content/recon_Flute.wav\n",
            "INFO:tensorflow:Saving: /content/interp_Cello_X_Flute.wav\n",
            "INFO:tensorflow:Sample: 67300\n",
            "INFO:tensorflow:Sample: 67400\n",
            "INFO:tensorflow:Sample: 67500\n",
            "INFO:tensorflow:Sample: 67600\n",
            "INFO:tensorflow:Sample: 67700\n",
            "INFO:tensorflow:Sample: 67800\n",
            "INFO:tensorflow:Sample: 67900\n",
            "INFO:tensorflow:Sample: 68000\n",
            "INFO:tensorflow:Sample: 68100\n",
            "INFO:tensorflow:Sample: 68200\n",
            "INFO:tensorflow:Sample: 68300\n",
            "INFO:tensorflow:Sample: 68400\n",
            "INFO:tensorflow:Sample: 68500\n",
            "INFO:tensorflow:Sample: 68600\n",
            "INFO:tensorflow:Sample: 68700\n",
            "INFO:tensorflow:Sample: 68800\n",
            "INFO:tensorflow:Sample: 68900\n",
            "INFO:tensorflow:Sample: 69000\n"
          ],
          "name": "stdout"
        },
        {
          "output_type": "stream",
          "text": [
            "INFO:tensorflow:Sample: 69100\n",
            "INFO:tensorflow:Sample: 69200\n",
            "INFO:tensorflow:Sample: 69300\n",
            "INFO:tensorflow:Sample: 69400\n",
            "INFO:tensorflow:Sample: 69500\n",
            "INFO:tensorflow:Sample: 69600\n",
            "INFO:tensorflow:Sample: 69700\n",
            "INFO:tensorflow:Sample: 69800\n",
            "INFO:tensorflow:Sample: 69900\n",
            "INFO:tensorflow:Sample: 70000\n",
            "INFO:tensorflow:Sample: 70100\n",
            "INFO:tensorflow:Sample: 70200\n",
            "INFO:tensorflow:Sample: 70300\n",
            "INFO:tensorflow:Sample: 70400\n",
            "INFO:tensorflow:Sample: 70500\n",
            "INFO:tensorflow:Sample: 70600\n",
            "INFO:tensorflow:Sample: 70700\n",
            "INFO:tensorflow:Sample: 70800\n",
            "INFO:tensorflow:Sample: 70900\n",
            "INFO:tensorflow:Sample: 71000\n",
            "INFO:tensorflow:Sample: 71100\n",
            "INFO:tensorflow:Sample: 71200\n",
            "INFO:tensorflow:Sample: 71300\n",
            "INFO:tensorflow:Sample: 71400\n",
            "INFO:tensorflow:Sample: 71500\n",
            "INFO:tensorflow:Sample: 71600\n",
            "INFO:tensorflow:Sample: 71700\n",
            "INFO:tensorflow:Sample: 71800\n",
            "INFO:tensorflow:Sample: 71900\n",
            "INFO:tensorflow:Sample: 72000\n",
            "INFO:tensorflow:Sample: 72100\n",
            "INFO:tensorflow:Sample: 72200\n",
            "INFO:tensorflow:Sample: 72300\n",
            "INFO:tensorflow:Sample: 72400\n",
            "INFO:tensorflow:Sample: 72500\n",
            "INFO:tensorflow:Sample: 72600\n",
            "INFO:tensorflow:Sample: 72700\n",
            "INFO:tensorflow:Sample: 72800\n",
            "INFO:tensorflow:Sample: 72900\n",
            "INFO:tensorflow:Sample: 73000\n",
            "INFO:tensorflow:Sample: 73100\n",
            "INFO:tensorflow:Sample: 73200\n",
            "INFO:tensorflow:Sample: 73300\n",
            "INFO:tensorflow:Sample: 73400\n",
            "INFO:tensorflow:Sample: 73500\n",
            "INFO:tensorflow:Sample: 73600\n",
            "INFO:tensorflow:Sample: 73700\n",
            "INFO:tensorflow:Sample: 73800\n",
            "INFO:tensorflow:Sample: 73900\n",
            "INFO:tensorflow:Sample: 74000\n",
            "INFO:tensorflow:Sample: 74100\n",
            "INFO:tensorflow:Sample: 74200\n",
            "INFO:tensorflow:Sample: 74300\n",
            "INFO:tensorflow:Sample: 74400\n",
            "INFO:tensorflow:Sample: 74500\n",
            "INFO:tensorflow:Sample: 74600\n",
            "INFO:tensorflow:Sample: 74700\n",
            "INFO:tensorflow:Sample: 74800\n",
            "INFO:tensorflow:Sample: 74900\n",
            "INFO:tensorflow:Sample: 75000\n",
            "INFO:tensorflow:Sample: 75100\n",
            "INFO:tensorflow:Sample: 75200\n",
            "INFO:tensorflow:Sample: 75300\n",
            "INFO:tensorflow:Sample: 75400\n",
            "INFO:tensorflow:Sample: 75500\n",
            "INFO:tensorflow:Sample: 75600\n",
            "INFO:tensorflow:Sample: 75700\n",
            "INFO:tensorflow:Sample: 75800\n",
            "INFO:tensorflow:Sample: 75900\n",
            "INFO:tensorflow:Sample: 76000\n",
            "INFO:tensorflow:Sample: 76100\n",
            "INFO:tensorflow:Sample: 76200\n",
            "INFO:tensorflow:Sample: 76300\n",
            "INFO:tensorflow:Sample: 76400\n",
            "INFO:tensorflow:Sample: 76500\n",
            "INFO:tensorflow:Sample: 76600\n",
            "INFO:tensorflow:Sample: 76700\n",
            "INFO:tensorflow:Sample: 76800\n",
            "INFO:tensorflow:Saving: /content/recon_Cello.wav\n",
            "INFO:tensorflow:Saving: /content/recon_Flute.wav\n",
            "INFO:tensorflow:Saving: /content/interp_Cello_X_Flute.wav\n"
          ],
          "name": "stdout"
        },
        {
          "output_type": "stream",
          "text": [
            "INFO:tensorflow:Sample: 76900\n",
            "INFO:tensorflow:Sample: 77000\n",
            "INFO:tensorflow:Sample: 77100\n",
            "INFO:tensorflow:Sample: 77200\n",
            "INFO:tensorflow:Sample: 77300\n",
            "INFO:tensorflow:Sample: 77400\n",
            "INFO:tensorflow:Sample: 77500\n",
            "INFO:tensorflow:Sample: 77600\n",
            "INFO:tensorflow:Sample: 77700\n",
            "INFO:tensorflow:Sample: 77800\n",
            "INFO:tensorflow:Sample: 77900\n",
            "INFO:tensorflow:Sample: 78000\n",
            "INFO:tensorflow:Sample: 78100\n",
            "INFO:tensorflow:Sample: 78200\n",
            "INFO:tensorflow:Sample: 78300\n",
            "INFO:tensorflow:Sample: 78400\n",
            "INFO:tensorflow:Sample: 78500\n",
            "INFO:tensorflow:Sample: 78600\n",
            "INFO:tensorflow:Sample: 78700\n",
            "INFO:tensorflow:Sample: 78800\n",
            "INFO:tensorflow:Sample: 78900\n",
            "INFO:tensorflow:Sample: 79000\n",
            "INFO:tensorflow:Sample: 79100\n",
            "INFO:tensorflow:Sample: 79200\n",
            "INFO:tensorflow:Sample: 79300\n",
            "INFO:tensorflow:Sample: 79400\n",
            "INFO:tensorflow:Sample: 79500\n",
            "INFO:tensorflow:Sample: 79600\n",
            "INFO:tensorflow:Sample: 79700\n",
            "INFO:tensorflow:Sample: 79800\n",
            "INFO:tensorflow:Sample: 79900\n",
            "INFO:tensorflow:Sample: 80000\n",
            "INFO:tensorflow:Sample: 80100\n",
            "INFO:tensorflow:Sample: 80200\n",
            "INFO:tensorflow:Sample: 80300\n",
            "INFO:tensorflow:Sample: 80400\n",
            "INFO:tensorflow:Sample: 80500\n",
            "INFO:tensorflow:Sample: 80600\n",
            "INFO:tensorflow:Sample: 80700\n",
            "INFO:tensorflow:Sample: 80800\n",
            "INFO:tensorflow:Sample: 80900\n",
            "INFO:tensorflow:Sample: 81000\n",
            "INFO:tensorflow:Sample: 81100\n",
            "INFO:tensorflow:Sample: 81200\n",
            "INFO:tensorflow:Sample: 81300\n",
            "INFO:tensorflow:Sample: 81400\n",
            "INFO:tensorflow:Sample: 81500\n",
            "INFO:tensorflow:Sample: 81600\n",
            "INFO:tensorflow:Sample: 81700\n",
            "INFO:tensorflow:Sample: 81800\n",
            "INFO:tensorflow:Sample: 81900\n",
            "INFO:tensorflow:Sample: 82000\n",
            "INFO:tensorflow:Sample: 82100\n",
            "INFO:tensorflow:Sample: 82200\n",
            "INFO:tensorflow:Sample: 82300\n",
            "INFO:tensorflow:Sample: 82400\n",
            "INFO:tensorflow:Sample: 82500\n",
            "INFO:tensorflow:Sample: 82600\n",
            "INFO:tensorflow:Sample: 82700\n",
            "INFO:tensorflow:Sample: 82800\n",
            "INFO:tensorflow:Sample: 82900\n",
            "INFO:tensorflow:Sample: 83000\n",
            "INFO:tensorflow:Sample: 83100\n",
            "INFO:tensorflow:Sample: 83200\n",
            "INFO:tensorflow:Sample: 83300\n",
            "INFO:tensorflow:Sample: 83400\n",
            "INFO:tensorflow:Sample: 83500\n"
          ],
          "name": "stdout"
        },
        {
          "output_type": "error",
          "ename": "KeyboardInterrupt",
          "evalue": "ignored",
          "traceback": [
            "\u001b[0;31m\u001b[0m",
            "\u001b[0;31mKeyboardInterrupt\u001b[0mTraceback (most recent call last)",
            "\u001b[0;32m<ipython-input-24-f995f924b6ac>\u001b[0m in \u001b[0;36m<module>\u001b[0;34m()\u001b[0m\n\u001b[1;32m      6\u001b[0m                    \u001b[0msave_paths\u001b[0m\u001b[0;34m=\u001b[0m\u001b[0msave_paths\u001b[0m\u001b[0;34m,\u001b[0m\u001b[0;34m\u001b[0m\u001b[0m\n\u001b[1;32m      7\u001b[0m                    \u001b[0mcheckpoint_path\u001b[0m\u001b[0;34m=\u001b[0m\u001b[0mckpt_path\u001b[0m\u001b[0;34m,\u001b[0m\u001b[0;34m\u001b[0m\u001b[0m\n\u001b[0;32m----> 8\u001b[0;31m                    samples_per_save=int(SAMPLE_LENGTH / 10))\n\u001b[0m",
            "\u001b[0;32m/usr/local/lib/python2.7/dist-packages/magenta/models/nsynth/wavenet/fastgen.pyc\u001b[0m in \u001b[0;36msynthesize\u001b[0;34m(encodings, save_paths, checkpoint_path, samples_per_save)\u001b[0m\n\u001b[1;32m    200\u001b[0m           feed_dict={\n\u001b[1;32m    201\u001b[0m               \u001b[0mnet\u001b[0m\u001b[0;34m[\u001b[0m\u001b[0;34m\"X\"\u001b[0m\u001b[0;34m]\u001b[0m\u001b[0;34m:\u001b[0m \u001b[0maudio\u001b[0m\u001b[0;34m,\u001b[0m\u001b[0;34m\u001b[0m\u001b[0m\n\u001b[0;32m--> 202\u001b[0;31m               \u001b[0mnet\u001b[0m\u001b[0;34m[\u001b[0m\u001b[0;34m\"encoding\"\u001b[0m\u001b[0;34m]\u001b[0m\u001b[0;34m:\u001b[0m \u001b[0mencodings\u001b[0m\u001b[0;34m[\u001b[0m\u001b[0;34m:\u001b[0m\u001b[0;34m,\u001b[0m \u001b[0menc_i\u001b[0m\u001b[0;34m,\u001b[0m \u001b[0;34m:\u001b[0m\u001b[0;34m]\u001b[0m\u001b[0;34m\u001b[0m\u001b[0m\n\u001b[0m\u001b[1;32m    203\u001b[0m           })[0]\n\u001b[1;32m    204\u001b[0m       \u001b[0msample_bin\u001b[0m \u001b[0;34m=\u001b[0m \u001b[0msample_categorical\u001b[0m\u001b[0;34m(\u001b[0m\u001b[0mpmf\u001b[0m\u001b[0;34m)\u001b[0m\u001b[0;34m\u001b[0m\u001b[0m\n",
            "\u001b[0;32m/usr/local/lib/python2.7/dist-packages/tensorflow/python/client/session.pyc\u001b[0m in \u001b[0;36mrun\u001b[0;34m(self, fetches, feed_dict, options, run_metadata)\u001b[0m\n\u001b[1;32m    898\u001b[0m     \u001b[0;32mtry\u001b[0m\u001b[0;34m:\u001b[0m\u001b[0;34m\u001b[0m\u001b[0m\n\u001b[1;32m    899\u001b[0m       result = self._run(None, fetches, feed_dict, options_ptr,\n\u001b[0;32m--> 900\u001b[0;31m                          run_metadata_ptr)\n\u001b[0m\u001b[1;32m    901\u001b[0m       \u001b[0;32mif\u001b[0m \u001b[0mrun_metadata\u001b[0m\u001b[0;34m:\u001b[0m\u001b[0;34m\u001b[0m\u001b[0m\n\u001b[1;32m    902\u001b[0m         \u001b[0mproto_data\u001b[0m \u001b[0;34m=\u001b[0m \u001b[0mtf_session\u001b[0m\u001b[0;34m.\u001b[0m\u001b[0mTF_GetBuffer\u001b[0m\u001b[0;34m(\u001b[0m\u001b[0mrun_metadata_ptr\u001b[0m\u001b[0;34m)\u001b[0m\u001b[0;34m\u001b[0m\u001b[0m\n",
            "\u001b[0;32m/usr/local/lib/python2.7/dist-packages/tensorflow/python/client/session.pyc\u001b[0m in \u001b[0;36m_run\u001b[0;34m(self, handle, fetches, feed_dict, options, run_metadata)\u001b[0m\n\u001b[1;32m   1133\u001b[0m     \u001b[0;32mif\u001b[0m \u001b[0mfinal_fetches\u001b[0m \u001b[0;32mor\u001b[0m \u001b[0mfinal_targets\u001b[0m \u001b[0;32mor\u001b[0m \u001b[0;34m(\u001b[0m\u001b[0mhandle\u001b[0m \u001b[0;32mand\u001b[0m \u001b[0mfeed_dict_tensor\u001b[0m\u001b[0;34m)\u001b[0m\u001b[0;34m:\u001b[0m\u001b[0;34m\u001b[0m\u001b[0m\n\u001b[1;32m   1134\u001b[0m       results = self._do_run(handle, final_targets, final_fetches,\n\u001b[0;32m-> 1135\u001b[0;31m                              feed_dict_tensor, options, run_metadata)\n\u001b[0m\u001b[1;32m   1136\u001b[0m     \u001b[0;32melse\u001b[0m\u001b[0;34m:\u001b[0m\u001b[0;34m\u001b[0m\u001b[0m\n\u001b[1;32m   1137\u001b[0m       \u001b[0mresults\u001b[0m \u001b[0;34m=\u001b[0m \u001b[0;34m[\u001b[0m\u001b[0;34m]\u001b[0m\u001b[0;34m\u001b[0m\u001b[0m\n",
            "\u001b[0;32m/usr/local/lib/python2.7/dist-packages/tensorflow/python/client/session.pyc\u001b[0m in \u001b[0;36m_do_run\u001b[0;34m(self, handle, target_list, fetch_list, feed_dict, options, run_metadata)\u001b[0m\n\u001b[1;32m   1314\u001b[0m     \u001b[0;32mif\u001b[0m \u001b[0mhandle\u001b[0m \u001b[0;32mis\u001b[0m \u001b[0mNone\u001b[0m\u001b[0;34m:\u001b[0m\u001b[0;34m\u001b[0m\u001b[0m\n\u001b[1;32m   1315\u001b[0m       return self._do_call(_run_fn, feeds, fetches, targets, options,\n\u001b[0;32m-> 1316\u001b[0;31m                            run_metadata)\n\u001b[0m\u001b[1;32m   1317\u001b[0m     \u001b[0;32melse\u001b[0m\u001b[0;34m:\u001b[0m\u001b[0;34m\u001b[0m\u001b[0m\n\u001b[1;32m   1318\u001b[0m       \u001b[0;32mreturn\u001b[0m \u001b[0mself\u001b[0m\u001b[0;34m.\u001b[0m\u001b[0m_do_call\u001b[0m\u001b[0;34m(\u001b[0m\u001b[0m_prun_fn\u001b[0m\u001b[0;34m,\u001b[0m \u001b[0mhandle\u001b[0m\u001b[0;34m,\u001b[0m \u001b[0mfeeds\u001b[0m\u001b[0;34m,\u001b[0m \u001b[0mfetches\u001b[0m\u001b[0;34m)\u001b[0m\u001b[0;34m\u001b[0m\u001b[0m\n",
            "\u001b[0;32m/usr/local/lib/python2.7/dist-packages/tensorflow/python/client/session.pyc\u001b[0m in \u001b[0;36m_do_call\u001b[0;34m(self, fn, *args)\u001b[0m\n\u001b[1;32m   1320\u001b[0m   \u001b[0;32mdef\u001b[0m \u001b[0m_do_call\u001b[0m\u001b[0;34m(\u001b[0m\u001b[0mself\u001b[0m\u001b[0;34m,\u001b[0m \u001b[0mfn\u001b[0m\u001b[0;34m,\u001b[0m \u001b[0;34m*\u001b[0m\u001b[0margs\u001b[0m\u001b[0;34m)\u001b[0m\u001b[0;34m:\u001b[0m\u001b[0;34m\u001b[0m\u001b[0m\n\u001b[1;32m   1321\u001b[0m     \u001b[0;32mtry\u001b[0m\u001b[0;34m:\u001b[0m\u001b[0;34m\u001b[0m\u001b[0m\n\u001b[0;32m-> 1322\u001b[0;31m       \u001b[0;32mreturn\u001b[0m \u001b[0mfn\u001b[0m\u001b[0;34m(\u001b[0m\u001b[0;34m*\u001b[0m\u001b[0margs\u001b[0m\u001b[0;34m)\u001b[0m\u001b[0;34m\u001b[0m\u001b[0m\n\u001b[0m\u001b[1;32m   1323\u001b[0m     \u001b[0;32mexcept\u001b[0m \u001b[0merrors\u001b[0m\u001b[0;34m.\u001b[0m\u001b[0mOpError\u001b[0m \u001b[0;32mas\u001b[0m \u001b[0me\u001b[0m\u001b[0;34m:\u001b[0m\u001b[0;34m\u001b[0m\u001b[0m\n\u001b[1;32m   1324\u001b[0m       \u001b[0mmessage\u001b[0m \u001b[0;34m=\u001b[0m \u001b[0mcompat\u001b[0m\u001b[0;34m.\u001b[0m\u001b[0mas_text\u001b[0m\u001b[0;34m(\u001b[0m\u001b[0me\u001b[0m\u001b[0;34m.\u001b[0m\u001b[0mmessage\u001b[0m\u001b[0;34m)\u001b[0m\u001b[0;34m\u001b[0m\u001b[0m\n",
            "\u001b[0;32m/usr/local/lib/python2.7/dist-packages/tensorflow/python/client/session.pyc\u001b[0m in \u001b[0;36m_run_fn\u001b[0;34m(feed_dict, fetch_list, target_list, options, run_metadata)\u001b[0m\n\u001b[1;32m   1305\u001b[0m       \u001b[0mself\u001b[0m\u001b[0;34m.\u001b[0m\u001b[0m_extend_graph\u001b[0m\u001b[0;34m(\u001b[0m\u001b[0;34m)\u001b[0m\u001b[0;34m\u001b[0m\u001b[0m\n\u001b[1;32m   1306\u001b[0m       return self._call_tf_sessionrun(\n\u001b[0;32m-> 1307\u001b[0;31m           options, feed_dict, fetch_list, target_list, run_metadata)\n\u001b[0m\u001b[1;32m   1308\u001b[0m \u001b[0;34m\u001b[0m\u001b[0m\n\u001b[1;32m   1309\u001b[0m     \u001b[0;32mdef\u001b[0m \u001b[0m_prun_fn\u001b[0m\u001b[0;34m(\u001b[0m\u001b[0mhandle\u001b[0m\u001b[0;34m,\u001b[0m \u001b[0mfeed_dict\u001b[0m\u001b[0;34m,\u001b[0m \u001b[0mfetch_list\u001b[0m\u001b[0;34m)\u001b[0m\u001b[0;34m:\u001b[0m\u001b[0;34m\u001b[0m\u001b[0m\n",
            "\u001b[0;32m/usr/local/lib/python2.7/dist-packages/tensorflow/python/client/session.pyc\u001b[0m in \u001b[0;36m_call_tf_sessionrun\u001b[0;34m(self, options, feed_dict, fetch_list, target_list, run_metadata)\u001b[0m\n\u001b[1;32m   1407\u001b[0m       return tf_session.TF_SessionRun_wrapper(\n\u001b[1;32m   1408\u001b[0m           \u001b[0mself\u001b[0m\u001b[0;34m.\u001b[0m\u001b[0m_session\u001b[0m\u001b[0;34m,\u001b[0m \u001b[0moptions\u001b[0m\u001b[0;34m,\u001b[0m \u001b[0mfeed_dict\u001b[0m\u001b[0;34m,\u001b[0m \u001b[0mfetch_list\u001b[0m\u001b[0;34m,\u001b[0m \u001b[0mtarget_list\u001b[0m\u001b[0;34m,\u001b[0m\u001b[0;34m\u001b[0m\u001b[0m\n\u001b[0;32m-> 1409\u001b[0;31m           run_metadata)\n\u001b[0m\u001b[1;32m   1410\u001b[0m     \u001b[0;32melse\u001b[0m\u001b[0;34m:\u001b[0m\u001b[0;34m\u001b[0m\u001b[0m\n\u001b[1;32m   1411\u001b[0m       \u001b[0;32mwith\u001b[0m \u001b[0merrors\u001b[0m\u001b[0;34m.\u001b[0m\u001b[0mraise_exception_on_not_ok_status\u001b[0m\u001b[0;34m(\u001b[0m\u001b[0;34m)\u001b[0m \u001b[0;32mas\u001b[0m \u001b[0mstatus\u001b[0m\u001b[0;34m:\u001b[0m\u001b[0;34m\u001b[0m\u001b[0m\n",
            "\u001b[0;31mKeyboardInterrupt\u001b[0m: "
          ]
        }
      ]
    },
    {
      "metadata": {
        "id": "Cm4Yz4VvPyRX",
        "colab_type": "code",
        "colab": {
          "base_uri": "https://localhost:8080/",
          "height": 68
        },
        "outputId": "a0c8d890-48d4-459b-f4db-79fc4ff92723"
      },
      "cell_type": "code",
      "source": [
        "#@title Download Interpolations\n",
        "for fname in save_paths:\n",
        "  print('Downloading: %s' % fname.split('/')[-1])\n",
        "  download(fname)"
      ],
      "execution_count": 25,
      "outputs": [
        {
          "output_type": "stream",
          "text": [
            "Downloading: recon_Cello.wav\n",
            "Downloading: recon_Flute.wav\n",
            "Downloading: interp_Cello_X_Flute.wav\n"
          ],
          "name": "stdout"
        }
      ]
    },
    {
      "metadata": {
        "id": "ToDMo5PbC78w",
        "colab_type": "code",
        "colab": {
          "base_uri": "https://localhost:8080/",
          "height": 384
        },
        "outputId": "076a07db-d9fa-42c3-854d-775e88303518"
      },
      "cell_type": "code",
      "source": [
        "#@title Listen to the outputs\n",
        "\n",
        "print(\"Originals:\\n\")\n",
        "for fname in file_list:\n",
        "  synth_audio = utils.load_audio(fname,\n",
        "                                 sample_length=SAMPLE_LENGTH,\n",
        "                                 sr=SR)\n",
        "  print(get_name(fname))\n",
        "  play(synth_audio, sample_rate=SR)\n",
        "\n",
        "for i, fname in enumerate(save_paths):\n",
        "  if i == 0:\n",
        "    print(\"Reconstructions:\\n\")\n",
        "  if i == len(file_list):\n",
        "    print(\"Interpolations:\\n\")\n",
        "  synth_audio = utils.load_audio(fname,\n",
        "                                 sample_length=SAMPLE_LENGTH,\n",
        "                                 sr=SR)\n",
        "  print(get_name(fname))\n",
        "  play(synth_audio, sample_rate=SR)"
      ],
      "execution_count": 26,
      "outputs": [
        {
          "output_type": "stream",
          "text": [
            "Originals:\n",
            "\n",
            "Cello\n"
          ],
          "name": "stdout"
        },
        {
          "output_type": "display_data",
          "data": {
            "text/plain": [
              "<IPython.core.display.HTML object>"
            ],
            "text/html": [
              "<div id=\"id_7\"> </div>"
            ]
          },
          "metadata": {
            "tags": []
          }
        },
        {
          "output_type": "stream",
          "text": [
            "Flute\n"
          ],
          "name": "stdout"
        },
        {
          "output_type": "display_data",
          "data": {
            "text/plain": [
              "<IPython.core.display.HTML object>"
            ],
            "text/html": [
              "<div id=\"id_8\"> </div>"
            ]
          },
          "metadata": {
            "tags": []
          }
        },
        {
          "output_type": "stream",
          "text": [
            "Reconstructions:\n",
            "\n",
            "recon_Cello\n"
          ],
          "name": "stdout"
        },
        {
          "output_type": "display_data",
          "data": {
            "text/plain": [
              "<IPython.core.display.HTML object>"
            ],
            "text/html": [
              "<div id=\"id_9\"> </div>"
            ]
          },
          "metadata": {
            "tags": []
          }
        },
        {
          "output_type": "stream",
          "text": [
            "recon_Flute\n"
          ],
          "name": "stdout"
        },
        {
          "output_type": "display_data",
          "data": {
            "text/plain": [
              "<IPython.core.display.HTML object>"
            ],
            "text/html": [
              "<div id=\"id_10\"> </div>"
            ]
          },
          "metadata": {
            "tags": []
          }
        },
        {
          "output_type": "stream",
          "text": [
            "Interpolations:\n",
            "\n",
            "interp_Cello_X_Flute\n"
          ],
          "name": "stdout"
        },
        {
          "output_type": "display_data",
          "data": {
            "text/plain": [
              "<IPython.core.display.HTML object>"
            ],
            "text/html": [
              "<div id=\"id_11\"> </div>"
            ]
          },
          "metadata": {
            "tags": []
          }
        }
      ]
    },
    {
      "metadata": {
        "id": "8ehfiAAAAPFr",
        "colab_type": "code",
        "colab": {}
      },
      "cell_type": "code",
      "source": [
        ""
      ],
      "execution_count": 0,
      "outputs": []
    }
  ]
}